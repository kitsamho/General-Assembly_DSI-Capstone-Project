{
 "cells": [
  {
   "cell_type": "markdown",
   "metadata": {},
   "source": [
    "<img src=\"Assets/Header.png\" style=\"width: 800px;\">"
   ]
  },
  {
   "cell_type": "code",
   "execution_count": 14,
   "metadata": {},
   "outputs": [
    {
     "name": "stdout",
     "output_type": "stream",
     "text": [
      "Overwriting ./templates/page.html\n"
     ]
    }
   ],
   "source": [
    "%%writefile ./templates/page.html\n",
    "<!doctype html>\n",
    "<html>\n",
    "  <head>\n",
    "    <title>Facebook Content Predictor</title>\n",
    "  </head>\n",
    "  <body>\n",
    "\n",
    "    <form action=\"http://localhost:5000/result\" method=\"POST\">\n",
    "      <p>Content <input type=\"string\" name=\"content\" /></p>\n",
    "    </form>\n",
    "\n",
    "  </body>\n",
    "</html>"
   ]
  },
  {
   "cell_type": "code",
   "execution_count": 15,
   "metadata": {},
   "outputs": [
    {
     "name": "stdout",
     "output_type": "stream",
     "text": [
      "Writing social_predictor.py\n"
     ]
    }
   ],
   "source": [
    "%%writefile social_predictor.py\n",
    "\n",
    "import pickle\n",
    "import flask\n",
    "from flask import render_template\n",
    "app = flask.Flask(__name__)\n",
    "\n",
    "#-------- MODEL GOES HERE -----------#\n",
    "\n",
    "with open(\"social_predictor.pkl\",'rb') as f:\n",
    "    model = pickle.load(f)\n",
    "\n",
    "#-------- ROUTES GO HERE -----------#\n",
    "\n",
    "@app.route('/')\n",
    "@app.route('/page')\n",
    "def page():\n",
    "    with open(\"templates/page.html\", 'r') as viz_file:\n",
    "        return viz_file.read()\n",
    "\n",
    "@app.route('/result', methods=['POST', 'GET'])\n",
    "def result():\n",
    "    '''Gets prediction using the HTML form'''\n",
    "    if flask.request.method == 'POST':\n",
    "        inputs = flask.request.form\n",
    "        content = inputs['content']\n",
    "        score = vc_pipe.predict(content).tolist()[0]\n",
    "        return score\n",
    "    \n",
    "if __name__ == '__main__':\n",
    "    '''Connects to the server'''\n",
    "\n",
    "    HOST = '127.0.0.1'\n",
    "    PORT = 5000\n",
    "\n",
    "    app.run(HOST, PORT)\n"
   ]
  },
  {
   "cell_type": "code",
   "execution_count": 16,
   "metadata": {},
   "outputs": [],
   "source": [
    "from social import *"
   ]
  },
  {
   "cell_type": "code",
   "execution_count": 17,
   "metadata": {},
   "outputs": [
    {
     "name": "stdout",
     "output_type": "stream",
     "text": [
      "BaseEstimator\t ContentPrep\t ContentPreprocessor\t GridSearchCV\t KNeighborsClassifier\t LogisticRegression\t Pipeline\t RandomForestClassifier\t TfidfVectorizer\t \n",
      "TransformerMixin\t X\t X_test\t X_train\t accuracy_score\t brand_cues\t classification_report\t cleaner\t confusion_matrix\t \n",
      "debrander\t df\t esw\t io\t joblib\t make_pipeline\t metrics\t nobitly\t nohash\t \n",
      "nohttp\t nolink\t np\t pd\t pickle\t plt\t prob_plotter\t re\t reduce\t \n",
      "sns\t stopWords\t train_test_split\t tvec\t tvec_mat\t vc\t vc_pipe\t y\t y_test\t \n",
      "y_train\t \n"
     ]
    }
   ],
   "source": [
    "who"
   ]
  },
  {
   "cell_type": "code",
   "execution_count": 18,
   "metadata": {},
   "outputs": [],
   "source": [
    "with open('social_predictor.pkl', 'rb') as f:\n",
    "    model = pickle.load(f)"
   ]
  },
  {
   "cell_type": "code",
   "execution_count": 19,
   "metadata": {},
   "outputs": [
    {
     "name": "stderr",
     "output_type": "stream",
     "text": [
      "/anaconda3/lib/python3.6/site-packages/sklearn/feature_extraction/text.py:300: UserWarning: Your stop_words may be inconsistent with your preprocessing. Tokenizing the stop words generated tokens ['extra', 'george', 'good', 'jamie', 'living', 'marks', 'mns', 'oliver', 'spencer', 'terms'] not in stop_words.\n",
      "  'stop_words.' % sorted(inconsistent))\n"
     ]
    },
    {
     "data": {
      "text/plain": [
       "array([4])"
      ]
     },
     "execution_count": 19,
     "metadata": {},
     "output_type": "execute_result"
    }
   ],
   "source": [
    "model.predict(['hello'])"
   ]
  },
  {
   "cell_type": "code",
   "execution_count": null,
   "metadata": {},
   "outputs": [],
   "source": []
  }
 ],
 "metadata": {
  "kernelspec": {
   "display_name": "Python 3",
   "language": "python",
   "name": "python3"
  },
  "language_info": {
   "codemirror_mode": {
    "name": "ipython",
    "version": 3
   },
   "file_extension": ".py",
   "mimetype": "text/x-python",
   "name": "python",
   "nbconvert_exporter": "python",
   "pygments_lexer": "ipython3",
   "version": "3.6.6"
  }
 },
 "nbformat": 4,
 "nbformat_minor": 2
}
