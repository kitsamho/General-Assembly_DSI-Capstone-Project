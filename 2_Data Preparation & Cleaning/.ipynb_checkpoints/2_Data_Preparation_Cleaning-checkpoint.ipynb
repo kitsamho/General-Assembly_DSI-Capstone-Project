{
 "cells": [
  {
   "cell_type": "markdown",
   "metadata": {},
   "source": [
    "<img src=\"Assets/Header.png\" style=\"width: 800px;\">"
   ]
  },
  {
   "cell_type": "markdown",
   "metadata": {},
   "source": [
    "# `Contents`\n",
    "\n",
    "- [Load Libraries](#load)\n",
    "- [Import CSV's](#csv)\n",
    "- [Cleaning](#cleaning) \n",
    "\t- [Comments & Shares](#commentsshares) \n",
    "\t- [Data Formats](#dataformat) \n",
    "\t- [Date Cleaning](#datecleaning)   \n",
    "- [Next Steps](#next) \n"
   ]
  },
  {
   "cell_type": "markdown",
   "metadata": {},
   "source": [
    "<a id=\"load\"></a>\n",
    "# `Load Libraries`\n",
    "---"
   ]
  },
  {
   "cell_type": "code",
   "execution_count": 1,
   "metadata": {},
   "outputs": [],
   "source": [
    "import numpy as np\n",
    "import pandas as pd\n",
    "import time\n",
    "import ast\n",
    "import re as re\n",
    "\n",
    "%config InlineBackend.figure_format = 'retina'\n",
    "%matplotlib inline\n"
   ]
  },
  {
   "cell_type": "markdown",
   "metadata": {},
   "source": [
    "<a id=\"csv\"></a>\n",
    "# `Import CSV's`\n",
    "---"
   ]
  },
  {
   "cell_type": "code",
   "execution_count": 2,
   "metadata": {},
   "outputs": [],
   "source": [
    "sainsburys_df = pd.read_csv('./Dirty_Data/Sainsburysfinal_desktop.csv').drop(['Unnamed: 0'],axis=1)\n",
    "tesco_df = pd.read_csv('./Dirty_Data/Tescofinal_desktop.csv').drop(['Unnamed: 0'],axis=1)\n",
    "waitrose_df = pd.read_csv('./Dirty_Data/waitroseandpartnersfinal_desktop.csv').drop(['Unnamed: 0'],axis=1)\n",
    "lidl_df = pd.read_csv('./Dirty_Data/lidlukfinal_desktop.csv').drop(['Unnamed: 0'],axis=1)\n",
    "asda_df = pd.read_csv('./Dirty_Data/asdafinal_desktop.csv').drop(['Unnamed: 0'],axis=1)\n",
    "morrisons_df = pd.read_csv('./Dirty_Data/morrisonsfinal_desktop.csv').drop(['Unnamed: 0'],axis=1)\n",
    "mns_df = pd.read_csv('./Dirty_Data/marksandspencerfinal_desktop.csv').drop(['Unnamed: 0'],axis=1)"
   ]
  },
  {
   "cell_type": "code",
   "execution_count": 3,
   "metadata": {},
   "outputs": [
    {
     "name": "stdout",
     "output_type": "stream",
     "text": [
      "(1088, 5)\n",
      "(741, 5)\n",
      "(846, 5)\n",
      "(1401, 5)\n",
      "(880, 5)\n",
      "(888, 5)\n",
      "(778, 5)\n"
     ]
    }
   ],
   "source": [
    "#drop nulls and duplicates\n",
    "tesco_df.dropna(inplace=True)\n",
    "tesco_df.drop_duplicates(inplace=True)\n",
    "print(tesco_df.shape)\n",
    "sainsburys_df.dropna(inplace=True)\n",
    "sainsburys_df.drop_duplicates(inplace=True)\n",
    "print(sainsburys_df.shape)\n",
    "waitrose_df.dropna(inplace=True)\n",
    "waitrose_df.drop_duplicates(inplace=True)\n",
    "print(waitrose_df.shape)\n",
    "lidl_df.dropna(inplace=True)\n",
    "lidl_df.drop_duplicates(inplace=True)\n",
    "print(lidl_df.shape)\n",
    "mns_df.dropna(inplace=True)\n",
    "mns_df.drop_duplicates(inplace=True)\n",
    "print(mns_df.shape)\n",
    "morrisons_df.dropna(inplace=True)\n",
    "morrisons_df.drop_duplicates(inplace=True)\n",
    "print(morrisons_df.shape)\n",
    "asda_df.dropna(inplace=True)\n",
    "asda_df.drop_duplicates(inplace=True)\n",
    "print(asda_df.shape)"
   ]
  },
  {
   "cell_type": "code",
   "execution_count": 4,
   "metadata": {},
   "outputs": [],
   "source": [
    "df = pd.concat([sainsburys_df,tesco_df,waitrose_df,lidl_df,mns_df,morrisons_df,asda_df],axis=0)"
   ]
  },
  {
   "cell_type": "code",
   "execution_count": 5,
   "metadata": {},
   "outputs": [
    {
     "data": {
      "text/html": [
       "<div>\n",
       "<style scoped>\n",
       "    .dataframe tbody tr th:only-of-type {\n",
       "        vertical-align: middle;\n",
       "    }\n",
       "\n",
       "    .dataframe tbody tr th {\n",
       "        vertical-align: top;\n",
       "    }\n",
       "\n",
       "    .dataframe thead th {\n",
       "        text-align: right;\n",
       "    }\n",
       "</style>\n",
       "<table border=\"1\" class=\"dataframe\">\n",
       "  <thead>\n",
       "    <tr style=\"text-align: right;\">\n",
       "      <th></th>\n",
       "      <th>Post_Content</th>\n",
       "      <th>Date</th>\n",
       "      <th>Comments_Shares</th>\n",
       "      <th>All_Responses</th>\n",
       "      <th>Brand</th>\n",
       "    </tr>\n",
       "  </thead>\n",
       "  <tbody>\n",
       "    <tr>\n",
       "      <th>0</th>\n",
       "      <td>What a Bude-iful week! We gave one of our car ...</td>\n",
       "      <td>Yesterday at 1:12 PM</td>\n",
       "      <td>1K Comments3,266 Shares653K Views</td>\n",
       "      <td>6.8K</td>\n",
       "      <td>Sainsburys</td>\n",
       "    </tr>\n",
       "    <tr>\n",
       "      <th>1</th>\n",
       "      <td>Bake a festive showstopper with Sainsbury’s ma...</td>\n",
       "      <td>December 8 at 4:00 PM</td>\n",
       "      <td>74 Comments23 Shares</td>\n",
       "      <td>132</td>\n",
       "      <td>Sainsburys</td>\n",
       "    </tr>\n",
       "    <tr>\n",
       "      <th>2</th>\n",
       "      <td>Get in the party spirit with Sainsbury’s magaz...</td>\n",
       "      <td>December 5 at 5:00 PM</td>\n",
       "      <td>33 Comments5 Shares18K Views</td>\n",
       "      <td>142</td>\n",
       "      <td>Sainsburys</td>\n",
       "    </tr>\n",
       "    <tr>\n",
       "      <th>3</th>\n",
       "      <td>Harry and Meghan’s wedding cake maker Claire P...</td>\n",
       "      <td>December 1 at 3:59 PM</td>\n",
       "      <td>59 Comments26 Shares</td>\n",
       "      <td>193</td>\n",
       "      <td>Sainsburys</td>\n",
       "    </tr>\n",
       "    <tr>\n",
       "      <th>4</th>\n",
       "      <td>These cookie-cup mince pies are deliciously ch...</td>\n",
       "      <td>November 29 at 3:59 PM</td>\n",
       "      <td>34 Comments22 Shares</td>\n",
       "      <td>187</td>\n",
       "      <td>Sainsburys</td>\n",
       "    </tr>\n",
       "  </tbody>\n",
       "</table>\n",
       "</div>"
      ],
      "text/plain": [
       "                                        Post_Content                    Date  \\\n",
       "0  What a Bude-iful week! We gave one of our car ...    Yesterday at 1:12 PM   \n",
       "1  Bake a festive showstopper with Sainsbury’s ma...   December 8 at 4:00 PM   \n",
       "2  Get in the party spirit with Sainsbury’s magaz...   December 5 at 5:00 PM   \n",
       "3  Harry and Meghan’s wedding cake maker Claire P...   December 1 at 3:59 PM   \n",
       "4  These cookie-cup mince pies are deliciously ch...  November 29 at 3:59 PM   \n",
       "\n",
       "                     Comments_Shares All_Responses       Brand  \n",
       "0  1K Comments3,266 Shares653K Views          6.8K  Sainsburys  \n",
       "1               74 Comments23 Shares           132  Sainsburys  \n",
       "2       33 Comments5 Shares18K Views           142  Sainsburys  \n",
       "3               59 Comments26 Shares           193  Sainsburys  \n",
       "4               34 Comments22 Shares           187  Sainsburys  "
      ]
     },
     "execution_count": 5,
     "metadata": {},
     "output_type": "execute_result"
    }
   ],
   "source": [
    "df.head()"
   ]
  },
  {
   "cell_type": "markdown",
   "metadata": {},
   "source": [
    "<a id=\"cleaning\"></a>\n",
    "# `Cleaning`\n",
    "---"
   ]
  },
  {
   "cell_type": "markdown",
   "metadata": {},
   "source": [
    "#### As you can see we have a few cleaning and formatting things we need to look at:\n",
    "\n",
    "    - Split 'Comments_Shares' merged column into three columns: one for comments, one for shares and one for views (infers a video)\n",
    "    \n",
    "    - Anywhere we have a reference of - for example - '1.4K' we need to convert that to 1400, or if 1.2M then convert that to 1200000\n",
    "    \n",
    "    - Finally we need to ensure we are dealing with all numbers so will need to convert them from string objects to integers\n",
    "    \n",
    "    - I also want to sort the date column out and prepare it for any time series analysis that needs doing:\n",
    "        - align format of date column to MONTH / DATE / YEAR\n",
    "        - create year column\n",
    "        - remove odd dates e.g 'Yesterday'"
   ]
  },
  {
   "cell_type": "code",
   "execution_count": 6,
   "metadata": {},
   "outputs": [
    {
     "data": {
      "text/plain": [
       "(6622, 5)"
      ]
     },
     "execution_count": 6,
     "metadata": {},
     "output_type": "execute_result"
    }
   ],
   "source": [
    "df.shape"
   ]
  },
  {
   "cell_type": "markdown",
   "metadata": {},
   "source": [
    "<a id=\"commentsshares\"></a>\n",
    "## `Comments & Shares` \n",
    "---"
   ]
  },
  {
   "cell_type": "code",
   "execution_count": 7,
   "metadata": {},
   "outputs": [
    {
     "data": {
      "text/html": [
       "<div>\n",
       "<style scoped>\n",
       "    .dataframe tbody tr th:only-of-type {\n",
       "        vertical-align: middle;\n",
       "    }\n",
       "\n",
       "    .dataframe tbody tr th {\n",
       "        vertical-align: top;\n",
       "    }\n",
       "\n",
       "    .dataframe thead th {\n",
       "        text-align: right;\n",
       "    }\n",
       "</style>\n",
       "<table border=\"1\" class=\"dataframe\">\n",
       "  <thead>\n",
       "    <tr style=\"text-align: right;\">\n",
       "      <th></th>\n",
       "      <th>Comments_Shares</th>\n",
       "    </tr>\n",
       "  </thead>\n",
       "  <tbody>\n",
       "    <tr>\n",
       "      <th>0</th>\n",
       "      <td>1K Comments3,266 Shares653K Views</td>\n",
       "    </tr>\n",
       "    <tr>\n",
       "      <th>1</th>\n",
       "      <td>74 Comments23 Shares</td>\n",
       "    </tr>\n",
       "    <tr>\n",
       "      <th>2</th>\n",
       "      <td>33 Comments5 Shares18K Views</td>\n",
       "    </tr>\n",
       "    <tr>\n",
       "      <th>3</th>\n",
       "      <td>59 Comments26 Shares</td>\n",
       "    </tr>\n",
       "    <tr>\n",
       "      <th>4</th>\n",
       "      <td>34 Comments22 Shares</td>\n",
       "    </tr>\n",
       "  </tbody>\n",
       "</table>\n",
       "</div>"
      ],
      "text/plain": [
       "                     Comments_Shares\n",
       "0  1K Comments3,266 Shares653K Views\n",
       "1               74 Comments23 Shares\n",
       "2       33 Comments5 Shares18K Views\n",
       "3               59 Comments26 Shares\n",
       "4               34 Comments22 Shares"
      ]
     },
     "execution_count": 7,
     "metadata": {},
     "output_type": "execute_result"
    }
   ],
   "source": [
    "#there's quite a lot to tweak here - doesn't look too pretty\n",
    "pd.DataFrame(df.Comments_Shares.head())"
   ]
  },
  {
   "cell_type": "code",
   "execution_count": 8,
   "metadata": {},
   "outputs": [],
   "source": [
    "#getting rid of any whitespace (we can add relevant space later on)\n",
    "df.Comments_Shares = df.Comments_Shares.str.replace(' ','')"
   ]
  },
  {
   "cell_type": "code",
   "execution_count": 9,
   "metadata": {},
   "outputs": [],
   "source": [
    "#preparing the 'Comment_Share' columns so I can cleanly split them onto Comments / Share columns\n",
    "df.Comments_Shares = df.Comments_Shares.str.replace('Comments','Comments, ')\n",
    "df.Comments_Shares = df.Comments_Shares.str.replace('Shares','Shares, ')"
   ]
  },
  {
   "cell_type": "code",
   "execution_count": 10,
   "metadata": {
    "scrolled": true
   },
   "outputs": [],
   "source": [
    "#now we need to split out the Comments, Shares and views data into their own columns\n",
    "df[['Comments','Shares','Views']] = df.Comments_Shares.str.split(' ', expand = True)\n",
    "df.drop(['Comments_Shares'],axis=1,inplace=True)\n"
   ]
  },
  {
   "cell_type": "code",
   "execution_count": 11,
   "metadata": {},
   "outputs": [],
   "source": [
    "#getting rid of any new nulls and re setting the index\n",
    "df.dropna(inplace=True)\n",
    "df.reset_index(drop=True, inplace= True)"
   ]
  },
  {
   "cell_type": "code",
   "execution_count": 12,
   "metadata": {},
   "outputs": [
    {
     "data": {
      "text/html": [
       "<div>\n",
       "<style scoped>\n",
       "    .dataframe tbody tr th:only-of-type {\n",
       "        vertical-align: middle;\n",
       "    }\n",
       "\n",
       "    .dataframe tbody tr th {\n",
       "        vertical-align: top;\n",
       "    }\n",
       "\n",
       "    .dataframe thead th {\n",
       "        text-align: right;\n",
       "    }\n",
       "</style>\n",
       "<table border=\"1\" class=\"dataframe\">\n",
       "  <thead>\n",
       "    <tr style=\"text-align: right;\">\n",
       "      <th></th>\n",
       "      <th>Post_Content</th>\n",
       "      <th>Date</th>\n",
       "      <th>All_Responses</th>\n",
       "      <th>Brand</th>\n",
       "      <th>Comments</th>\n",
       "      <th>Shares</th>\n",
       "      <th>Views</th>\n",
       "    </tr>\n",
       "  </thead>\n",
       "  <tbody>\n",
       "    <tr>\n",
       "      <th>0</th>\n",
       "      <td>What a Bude-iful week! We gave one of our car ...</td>\n",
       "      <td>Yesterday at 1:12 PM</td>\n",
       "      <td>6.8K</td>\n",
       "      <td>Sainsburys</td>\n",
       "      <td>1KComments,</td>\n",
       "      <td>3,266Shares,</td>\n",
       "      <td>653KViews</td>\n",
       "    </tr>\n",
       "    <tr>\n",
       "      <th>1</th>\n",
       "      <td>Bake a festive showstopper with Sainsbury’s ma...</td>\n",
       "      <td>December 8 at 4:00 PM</td>\n",
       "      <td>132</td>\n",
       "      <td>Sainsburys</td>\n",
       "      <td>74Comments,</td>\n",
       "      <td>23Shares,</td>\n",
       "      <td></td>\n",
       "    </tr>\n",
       "    <tr>\n",
       "      <th>2</th>\n",
       "      <td>Get in the party spirit with Sainsbury’s magaz...</td>\n",
       "      <td>December 5 at 5:00 PM</td>\n",
       "      <td>142</td>\n",
       "      <td>Sainsburys</td>\n",
       "      <td>33Comments,</td>\n",
       "      <td>5Shares,</td>\n",
       "      <td>18KViews</td>\n",
       "    </tr>\n",
       "    <tr>\n",
       "      <th>3</th>\n",
       "      <td>Harry and Meghan’s wedding cake maker Claire P...</td>\n",
       "      <td>December 1 at 3:59 PM</td>\n",
       "      <td>193</td>\n",
       "      <td>Sainsburys</td>\n",
       "      <td>59Comments,</td>\n",
       "      <td>26Shares,</td>\n",
       "      <td></td>\n",
       "    </tr>\n",
       "    <tr>\n",
       "      <th>4</th>\n",
       "      <td>These cookie-cup mince pies are deliciously ch...</td>\n",
       "      <td>November 29 at 3:59 PM</td>\n",
       "      <td>187</td>\n",
       "      <td>Sainsburys</td>\n",
       "      <td>34Comments,</td>\n",
       "      <td>22Shares,</td>\n",
       "      <td></td>\n",
       "    </tr>\n",
       "  </tbody>\n",
       "</table>\n",
       "</div>"
      ],
      "text/plain": [
       "                                        Post_Content                    Date  \\\n",
       "0  What a Bude-iful week! We gave one of our car ...    Yesterday at 1:12 PM   \n",
       "1  Bake a festive showstopper with Sainsbury’s ma...   December 8 at 4:00 PM   \n",
       "2  Get in the party spirit with Sainsbury’s magaz...   December 5 at 5:00 PM   \n",
       "3  Harry and Meghan’s wedding cake maker Claire P...   December 1 at 3:59 PM   \n",
       "4  These cookie-cup mince pies are deliciously ch...  November 29 at 3:59 PM   \n",
       "\n",
       "  All_Responses       Brand     Comments        Shares      Views  \n",
       "0          6.8K  Sainsburys  1KComments,  3,266Shares,  653KViews  \n",
       "1           132  Sainsburys  74Comments,     23Shares,             \n",
       "2           142  Sainsburys  33Comments,      5Shares,   18KViews  \n",
       "3           193  Sainsburys  59Comments,     26Shares,             \n",
       "4           187  Sainsburys  34Comments,     22Shares,             "
      ]
     },
     "execution_count": 12,
     "metadata": {},
     "output_type": "execute_result"
    }
   ],
   "source": [
    "#getting there...\n",
    "df.head()"
   ]
  },
  {
   "cell_type": "code",
   "execution_count": 13,
   "metadata": {},
   "outputs": [],
   "source": [
    "#remove the 'comments' / 'shares' / views characters\n",
    "df['Comments'] = df['Comments'].apply(lambda x: x.replace('Comments,',''))\n",
    "df['Comments'] = df['Comments'].apply(lambda x: x.replace('Comments',''))\n",
    "df['Shares'] = df['Shares'].apply(lambda x: x.replace('Shares,',''))\n",
    "df['Shares'] = df['Shares'].apply(lambda x: x.replace(',',''))\n",
    "df['Views'] = df['Views'].apply(lambda x: x.replace('Views',''))"
   ]
  },
  {
   "cell_type": "code",
   "execution_count": 14,
   "metadata": {},
   "outputs": [
    {
     "data": {
      "text/html": [
       "<div>\n",
       "<style scoped>\n",
       "    .dataframe tbody tr th:only-of-type {\n",
       "        vertical-align: middle;\n",
       "    }\n",
       "\n",
       "    .dataframe tbody tr th {\n",
       "        vertical-align: top;\n",
       "    }\n",
       "\n",
       "    .dataframe thead th {\n",
       "        text-align: right;\n",
       "    }\n",
       "</style>\n",
       "<table border=\"1\" class=\"dataframe\">\n",
       "  <thead>\n",
       "    <tr style=\"text-align: right;\">\n",
       "      <th></th>\n",
       "      <th>Post_Content</th>\n",
       "      <th>Date</th>\n",
       "      <th>All_Responses</th>\n",
       "      <th>Brand</th>\n",
       "      <th>Comments</th>\n",
       "      <th>Shares</th>\n",
       "      <th>Views</th>\n",
       "    </tr>\n",
       "  </thead>\n",
       "  <tbody>\n",
       "    <tr>\n",
       "      <th>0</th>\n",
       "      <td>What a Bude-iful week! We gave one of our car ...</td>\n",
       "      <td>Yesterday at 1:12 PM</td>\n",
       "      <td>6.8K</td>\n",
       "      <td>Sainsburys</td>\n",
       "      <td>1K</td>\n",
       "      <td>3266</td>\n",
       "      <td>653K</td>\n",
       "    </tr>\n",
       "    <tr>\n",
       "      <th>1</th>\n",
       "      <td>Bake a festive showstopper with Sainsbury’s ma...</td>\n",
       "      <td>December 8 at 4:00 PM</td>\n",
       "      <td>132</td>\n",
       "      <td>Sainsburys</td>\n",
       "      <td>74</td>\n",
       "      <td>23</td>\n",
       "      <td></td>\n",
       "    </tr>\n",
       "    <tr>\n",
       "      <th>2</th>\n",
       "      <td>Get in the party spirit with Sainsbury’s magaz...</td>\n",
       "      <td>December 5 at 5:00 PM</td>\n",
       "      <td>142</td>\n",
       "      <td>Sainsburys</td>\n",
       "      <td>33</td>\n",
       "      <td>5</td>\n",
       "      <td>18K</td>\n",
       "    </tr>\n",
       "    <tr>\n",
       "      <th>3</th>\n",
       "      <td>Harry and Meghan’s wedding cake maker Claire P...</td>\n",
       "      <td>December 1 at 3:59 PM</td>\n",
       "      <td>193</td>\n",
       "      <td>Sainsburys</td>\n",
       "      <td>59</td>\n",
       "      <td>26</td>\n",
       "      <td></td>\n",
       "    </tr>\n",
       "    <tr>\n",
       "      <th>4</th>\n",
       "      <td>These cookie-cup mince pies are deliciously ch...</td>\n",
       "      <td>November 29 at 3:59 PM</td>\n",
       "      <td>187</td>\n",
       "      <td>Sainsburys</td>\n",
       "      <td>34</td>\n",
       "      <td>22</td>\n",
       "      <td></td>\n",
       "    </tr>\n",
       "  </tbody>\n",
       "</table>\n",
       "</div>"
      ],
      "text/plain": [
       "                                        Post_Content                    Date  \\\n",
       "0  What a Bude-iful week! We gave one of our car ...    Yesterday at 1:12 PM   \n",
       "1  Bake a festive showstopper with Sainsbury’s ma...   December 8 at 4:00 PM   \n",
       "2  Get in the party spirit with Sainsbury’s magaz...   December 5 at 5:00 PM   \n",
       "3  Harry and Meghan’s wedding cake maker Claire P...   December 1 at 3:59 PM   \n",
       "4  These cookie-cup mince pies are deliciously ch...  November 29 at 3:59 PM   \n",
       "\n",
       "  All_Responses       Brand Comments Shares Views  \n",
       "0          6.8K  Sainsburys       1K   3266  653K  \n",
       "1           132  Sainsburys       74     23        \n",
       "2           142  Sainsburys       33      5   18K  \n",
       "3           193  Sainsburys       59     26        \n",
       "4           187  Sainsburys       34     22        "
      ]
     },
     "execution_count": 14,
     "metadata": {},
     "output_type": "execute_result"
    }
   ],
   "source": [
    "df.head()"
   ]
  },
  {
   "cell_type": "code",
   "execution_count": 15,
   "metadata": {},
   "outputs": [],
   "source": [
    "## There are a few random anomalies - namely where friends of mine (remember, I had to be logged in to access the share data) have liked posts"
   ]
  },
  {
   "cell_type": "code",
   "execution_count": 16,
   "metadata": {},
   "outputs": [
    {
     "data": {
      "text/html": [
       "<div>\n",
       "<style scoped>\n",
       "    .dataframe tbody tr th:only-of-type {\n",
       "        vertical-align: middle;\n",
       "    }\n",
       "\n",
       "    .dataframe tbody tr th {\n",
       "        vertical-align: top;\n",
       "    }\n",
       "\n",
       "    .dataframe thead th {\n",
       "        text-align: right;\n",
       "    }\n",
       "</style>\n",
       "<table border=\"1\" class=\"dataframe\">\n",
       "  <thead>\n",
       "    <tr style=\"text-align: right;\">\n",
       "      <th></th>\n",
       "      <th>Post_Content</th>\n",
       "      <th>Date</th>\n",
       "      <th>All_Responses</th>\n",
       "      <th>Brand</th>\n",
       "      <th>Comments</th>\n",
       "      <th>Shares</th>\n",
       "      <th>Views</th>\n",
       "    </tr>\n",
       "  </thead>\n",
       "  <tbody>\n",
       "    <tr>\n",
       "      <th>2147</th>\n",
       "      <td>Sourdough toast topped with mashed avocado and...</td>\n",
       "      <td>April 18, 2016</td>\n",
       "      <td>Steve Lucijan Fle-Danijelović and 11K others</td>\n",
       "      <td>waitroseandpartners</td>\n",
       "      <td>700</td>\n",
       "      <td>710</td>\n",
       "      <td></td>\n",
       "    </tr>\n",
       "  </tbody>\n",
       "</table>\n",
       "</div>"
      ],
      "text/plain": [
       "                                           Post_Content            Date  \\\n",
       "2147  Sourdough toast topped with mashed avocado and...  April 18, 2016   \n",
       "\n",
       "                                     All_Responses                Brand  \\\n",
       "2147  Steve Lucijan Fle-Danijelović and 11K others  waitroseandpartners   \n",
       "\n",
       "     Comments Shares Views  \n",
       "2147      700    710        "
      ]
     },
     "execution_count": 16,
     "metadata": {},
     "output_type": "execute_result"
    }
   ],
   "source": [
    "df[df['All_Responses'].str.contains(\"Steve\")] #2147"
   ]
  },
  {
   "cell_type": "code",
   "execution_count": 17,
   "metadata": {},
   "outputs": [
    {
     "data": {
      "text/html": [
       "<div>\n",
       "<style scoped>\n",
       "    .dataframe tbody tr th:only-of-type {\n",
       "        vertical-align: middle;\n",
       "    }\n",
       "\n",
       "    .dataframe tbody tr th {\n",
       "        vertical-align: top;\n",
       "    }\n",
       "\n",
       "    .dataframe thead th {\n",
       "        text-align: right;\n",
       "    }\n",
       "</style>\n",
       "<table border=\"1\" class=\"dataframe\">\n",
       "  <thead>\n",
       "    <tr style=\"text-align: right;\">\n",
       "      <th></th>\n",
       "      <th>Post_Content</th>\n",
       "      <th>Date</th>\n",
       "      <th>All_Responses</th>\n",
       "      <th>Brand</th>\n",
       "      <th>Comments</th>\n",
       "      <th>Shares</th>\n",
       "      <th>Views</th>\n",
       "    </tr>\n",
       "  </thead>\n",
       "  <tbody>\n",
       "    <tr>\n",
       "      <th>2523</th>\n",
       "      <td>Which of these deliciously healthy breakfast r...</td>\n",
       "      <td>March 13, 2015</td>\n",
       "      <td>Waitrose &amp; Partners and 166 others</td>\n",
       "      <td>waitroseandpartners</td>\n",
       "      <td>21</td>\n",
       "      <td>6</td>\n",
       "      <td></td>\n",
       "    </tr>\n",
       "    <tr>\n",
       "      <th>2533</th>\n",
       "      <td>Thumbs up if you’re a fan of the mighty strawb...</td>\n",
       "      <td>March 6, 2015</td>\n",
       "      <td>Waitrose &amp; Partners and 918 others</td>\n",
       "      <td>waitroseandpartners</td>\n",
       "      <td>43</td>\n",
       "      <td>55</td>\n",
       "      <td></td>\n",
       "    </tr>\n",
       "  </tbody>\n",
       "</table>\n",
       "</div>"
      ],
      "text/plain": [
       "                                           Post_Content            Date  \\\n",
       "2523  Which of these deliciously healthy breakfast r...  March 13, 2015   \n",
       "2533  Thumbs up if you’re a fan of the mighty strawb...   March 6, 2015   \n",
       "\n",
       "                           All_Responses                Brand Comments Shares  \\\n",
       "2523  Waitrose & Partners and 166 others  waitroseandpartners       21      6   \n",
       "2533  Waitrose & Partners and 918 others  waitroseandpartners       43     55   \n",
       "\n",
       "     Views  \n",
       "2523        \n",
       "2533        "
      ]
     },
     "execution_count": 17,
     "metadata": {},
     "output_type": "execute_result"
    }
   ],
   "source": [
    "df[df['All_Responses'].str.contains(\"Wai\")] #2523 / 2533"
   ]
  },
  {
   "cell_type": "code",
   "execution_count": 18,
   "metadata": {},
   "outputs": [],
   "source": [
    "df.drop([2147,2523,2533],axis=0,inplace=True)"
   ]
  },
  {
   "cell_type": "markdown",
   "metadata": {},
   "source": [
    "<a id=\"dataformat\"></a>\n",
    "## `Data Formats`\n",
    "---"
   ]
  },
  {
   "cell_type": "code",
   "execution_count": 19,
   "metadata": {},
   "outputs": [],
   "source": [
    "#function that will remove a 'K', convert to integers and multiply it by 1000 \n",
    "def kformat(x):\n",
    "    try:\n",
    "        if 'K' in x:\n",
    "            return int(float(x.replace('K',''))*1000)\n",
    "        elif 'M' in x:\n",
    "            return int(float(x.replace('M',''))*1000000)\n",
    "        else:\n",
    "            return int(x)\n",
    "    except:\n",
    "        return x\n",
    "    \n",
    "#calling the function on anywhere that requires that formatting\n",
    "df = df.applymap(kformat)"
   ]
  },
  {
   "cell_type": "code",
   "execution_count": 20,
   "metadata": {},
   "outputs": [
    {
     "data": {
      "text/plain": [
       "Post_Content     object\n",
       "Date             object\n",
       "All_Responses     int64\n",
       "Brand            object\n",
       "Comments          int64\n",
       "Shares            int64\n",
       "Views            object\n",
       "dtype: object"
      ]
     },
     "execution_count": 20,
     "metadata": {},
     "output_type": "execute_result"
    }
   ],
   "source": [
    "df.dtypes"
   ]
  },
  {
   "cell_type": "code",
   "execution_count": 21,
   "metadata": {},
   "outputs": [],
   "source": [
    "def converter(x):\n",
    "    try:\n",
    "        int(x)\n",
    "        return x\n",
    "    except:\n",
    "        return 0"
   ]
  },
  {
   "cell_type": "code",
   "execution_count": 22,
   "metadata": {},
   "outputs": [
    {
     "data": {
      "text/plain": [
       "0"
      ]
     },
     "execution_count": 22,
     "metadata": {},
     "output_type": "execute_result"
    }
   ],
   "source": [
    "df.Views = df.Views.apply(converter)\n",
    "df.Views.isnull().sum()"
   ]
  },
  {
   "cell_type": "code",
   "execution_count": 23,
   "metadata": {},
   "outputs": [],
   "source": [
    "# I'm not a fan of how some of the brands are labelled so will tweak them a bit to read better\n",
    "df['Brand'].replace({'Sainsburys': 'Sainsburys', 'Tesco': 'Tesco', 'waitroseandpartners': 'Waitrose', \n",
    "                        'lidluk': 'Lidl','MarksandSpencer' : 'Marks and Spencer','Morrisons' : 'Morrisons','asda': 'ASDA'},inplace = True) "
   ]
  },
  {
   "cell_type": "markdown",
   "metadata": {},
   "source": [
    "<a id=\"datecleaning\"></a>\n",
    "## `Date Cleaning`\n",
    "---\n",
    "\n",
    "- I also want to sort the date column out and prepare it for any time series analysis that needs doing:  \n",
    "    - align format of date column to MONTH / DATE / YEAR\n",
    "    - create year column\n",
    "    - remove odd dates e.g 'Yesterday'"
   ]
  },
  {
   "cell_type": "code",
   "execution_count": 24,
   "metadata": {},
   "outputs": [],
   "source": [
    "#function that cleans date data into the format I want\n",
    "def date_cleaner(x):\n",
    "    if re.search('\\ at.*',x):\n",
    "        return re.sub('\\ at.*',', 2018',x)\n",
    "    elif re.search('^(?!.*(2013|2014|2015|2016|2017|2018)).*$',x):\n",
    "        return x + ', 2018'\n",
    "    else:\n",
    "        return x\n",
    "    \n",
    "df['Date'] = df['Date'].apply(date_cleaner)"
   ]
  },
  {
   "cell_type": "code",
   "execution_count": 25,
   "metadata": {},
   "outputs": [],
   "source": [
    "#get rid of odd dates - artifacts from scraping on Facebook\n",
    "df = df[df.Date != 'Yesterday, 2018']\n",
    "df=df.drop([2566,3925,717,4798,716,4799,3924,2567,4800])"
   ]
  },
  {
   "cell_type": "code",
   "execution_count": 26,
   "metadata": {},
   "outputs": [
    {
     "data": {
      "text/html": [
       "<div>\n",
       "<style scoped>\n",
       "    .dataframe tbody tr th:only-of-type {\n",
       "        vertical-align: middle;\n",
       "    }\n",
       "\n",
       "    .dataframe tbody tr th {\n",
       "        vertical-align: top;\n",
       "    }\n",
       "\n",
       "    .dataframe thead th {\n",
       "        text-align: right;\n",
       "    }\n",
       "</style>\n",
       "<table border=\"1\" class=\"dataframe\">\n",
       "  <thead>\n",
       "    <tr style=\"text-align: right;\">\n",
       "      <th></th>\n",
       "      <th>Post_Content</th>\n",
       "      <th>Date</th>\n",
       "      <th>All_Responses</th>\n",
       "      <th>Brand</th>\n",
       "      <th>Comments</th>\n",
       "      <th>Shares</th>\n",
       "      <th>Views</th>\n",
       "    </tr>\n",
       "  </thead>\n",
       "  <tbody>\n",
       "    <tr>\n",
       "      <th>1580</th>\n",
       "      <td>We’d love to be able to bounce our way through...</td>\n",
       "      <td>April 1, 2015</td>\n",
       "      <td>713</td>\n",
       "      <td>Tesco</td>\n",
       "      <td>86</td>\n",
       "      <td>64</td>\n",
       "      <td>0</td>\n",
       "    </tr>\n",
       "    <tr>\n",
       "      <th>1581</th>\n",
       "      <td>Reaching items on high shelves isn’t always ea...</td>\n",
       "      <td>April 1, 2015</td>\n",
       "      <td>13000</td>\n",
       "      <td>Tesco</td>\n",
       "      <td>3500</td>\n",
       "      <td>3985</td>\n",
       "      <td>0</td>\n",
       "    </tr>\n",
       "    <tr>\n",
       "      <th>2498</th>\n",
       "      <td>Today’s Q&amp;A with Martha Collison is now closed...</td>\n",
       "      <td>April 1, 2015</td>\n",
       "      <td>1400</td>\n",
       "      <td>Waitrose</td>\n",
       "      <td>79</td>\n",
       "      <td>38</td>\n",
       "      <td>0</td>\n",
       "    </tr>\n",
       "    <tr>\n",
       "      <th>1012</th>\n",
       "      <td>Watch our guide to making this fun and colourf...</td>\n",
       "      <td>April 1, 2016</td>\n",
       "      <td>1400</td>\n",
       "      <td>Tesco</td>\n",
       "      <td>282</td>\n",
       "      <td>650</td>\n",
       "      <td>468000</td>\n",
       "    </tr>\n",
       "    <tr>\n",
       "      <th>2154</th>\n",
       "      <td>On the table in 25 minutes, our recipe for car...</td>\n",
       "      <td>April 1, 2016</td>\n",
       "      <td>51</td>\n",
       "      <td>Waitrose</td>\n",
       "      <td>3</td>\n",
       "      <td>6</td>\n",
       "      <td>0</td>\n",
       "    </tr>\n",
       "  </tbody>\n",
       "</table>\n",
       "</div>"
      ],
      "text/plain": [
       "                                           Post_Content           Date  \\\n",
       "1580  We’d love to be able to bounce our way through...  April 1, 2015   \n",
       "1581  Reaching items on high shelves isn’t always ea...  April 1, 2015   \n",
       "2498  Today’s Q&A with Martha Collison is now closed...  April 1, 2015   \n",
       "1012  Watch our guide to making this fun and colourf...  April 1, 2016   \n",
       "2154  On the table in 25 minutes, our recipe for car...  April 1, 2016   \n",
       "\n",
       "      All_Responses     Brand  Comments  Shares   Views  \n",
       "1580            713     Tesco        86      64       0  \n",
       "1581          13000     Tesco      3500    3985       0  \n",
       "2498           1400  Waitrose        79      38       0  \n",
       "1012           1400     Tesco       282     650  468000  \n",
       "2154             51  Waitrose         3       6       0  "
      ]
     },
     "execution_count": 26,
     "metadata": {},
     "output_type": "execute_result"
    }
   ],
   "source": [
    "df.sort_values(by='Date').head()"
   ]
  },
  {
   "cell_type": "code",
   "execution_count": 27,
   "metadata": {},
   "outputs": [],
   "source": [
    "#add a year column\n",
    "df['Year'] = df['Date'].apply(lambda x: x.split(',')[1].strip())"
   ]
  },
  {
   "cell_type": "code",
   "execution_count": 28,
   "metadata": {},
   "outputs": [],
   "source": [
    "#convert Date column to date time format\n",
    "df.Date = pd.to_datetime(df.Date)"
   ]
  },
  {
   "cell_type": "code",
   "execution_count": 29,
   "metadata": {},
   "outputs": [],
   "source": [
    "final = df[['Date','Year','Brand', 'Post_Content', 'All_Responses', 'Comments', 'Shares',\n",
    "       'Views']]"
   ]
  },
  {
   "cell_type": "code",
   "execution_count": 30,
   "metadata": {},
   "outputs": [
    {
     "data": {
      "text/plain": [
       "Date             datetime64[ns]\n",
       "Year                     object\n",
       "Brand                    object\n",
       "Post_Content             object\n",
       "All_Responses             int64\n",
       "Comments                  int64\n",
       "Shares                    int64\n",
       "Views                     int64\n",
       "dtype: object"
      ]
     },
     "execution_count": 30,
     "metadata": {},
     "output_type": "execute_result"
    }
   ],
   "source": [
    "#looks decent\n",
    "final.dtypes"
   ]
  },
  {
   "cell_type": "markdown",
   "metadata": {},
   "source": [
    "## `Save the final df to csv`"
   ]
  },
  {
   "cell_type": "code",
   "execution_count": 31,
   "metadata": {},
   "outputs": [],
   "source": [
    "final.to_csv('./Clean_Data/Final_merged.csv',index=False)"
   ]
  },
  {
   "cell_type": "markdown",
   "metadata": {},
   "source": [
    "<a id=\"next\"></a>\n",
    "# `Next Steps:`\n",
    "---\n",
    "\n",
    "In the next section I'm going to consider new features, either from existing data in the set or perhaps looking at getting data from other sources"
   ]
  },
  {
   "cell_type": "code",
   "execution_count": null,
   "metadata": {},
   "outputs": [],
   "source": []
  }
 ],
 "metadata": {
  "kernelspec": {
   "display_name": "Python 3",
   "language": "python",
   "name": "python3"
  },
  "language_info": {
   "codemirror_mode": {
    "name": "ipython",
    "version": 3
   },
   "file_extension": ".py",
   "mimetype": "text/x-python",
   "name": "python",
   "nbconvert_exporter": "python",
   "pygments_lexer": "ipython3",
   "version": "3.6.6"
  },
  "toc": {
   "nav_menu": {},
   "number_sections": false,
   "sideBar": true,
   "skip_h1_title": true,
   "title_cell": "Table of Contents",
   "title_sidebar": "Contents",
   "toc_cell": true,
   "toc_position": {},
   "toc_section_display": true,
   "toc_window_display": false
  }
 },
 "nbformat": 4,
 "nbformat_minor": 2
}
