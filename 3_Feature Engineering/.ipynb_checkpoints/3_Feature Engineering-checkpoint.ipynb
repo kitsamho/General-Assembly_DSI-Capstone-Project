{
 "cells": [
  {
   "cell_type": "markdown",
   "metadata": {},
   "source": [
    "<img src=\"Assets/header.png\" style=\"width: 800px;\">"
   ]
  },
  {
   "cell_type": "markdown",
   "metadata": {},
   "source": [
    "# `Contents`\n",
    "\n",
    "- [Load Libraries](#load)\n",
    "- [Engineering New Features / Adding Extra Layers of Data](#engineer)\n",
    "\t- [Contains Links / Videos](#links) \n",
    "\t- [Contains Hashtags](#hash) \n",
    "\t- [Integrating like data from secondary sources](#integrate) \n",
    "\t- [Creating engagement rate](#engage)         \n",
    "- [Next Steps](#next)"
   ]
  },
  {
   "cell_type": "markdown",
   "metadata": {},
   "source": [
    "<a id=\"load\"></a>\n",
    "# `Load Libraries`\n",
    "---"
   ]
  },
  {
   "cell_type": "code",
   "execution_count": 1,
   "metadata": {},
   "outputs": [],
   "source": [
    "import numpy as np\n",
    "import pandas as pd\n",
    "import time\n",
    "import ast\n",
    "import regex as re\n",
    "\n",
    "%config InlineBackend.figure_format = 'retina'\n",
    "%matplotlib inline"
   ]
  },
  {
   "cell_type": "markdown",
   "metadata": {},
   "source": [
    "# Import the merged clean data\n",
    "---"
   ]
  },
  {
   "cell_type": "code",
   "execution_count": 2,
   "metadata": {},
   "outputs": [],
   "source": [
    "df = pd.read_csv('./Clean_Data/Final_merged.csv')"
   ]
  },
  {
   "cell_type": "markdown",
   "metadata": {},
   "source": [
    "<a id=\"engineer\"></a>\n",
    "# `Engineering New Features / Adding Extra Layers of Data`\n",
    "---"
   ]
  },
  {
   "cell_type": "markdown",
   "metadata": {},
   "source": [
    "Ideas for new features:\n",
    "\n",
    "    -Identify if post contans video or link\n",
    "    -Identify if post contains any hashtags \n",
    "    - Add likes by time\n",
    "    -Aggregate extra fan data (likes) create engagement rate by interaction"
   ]
  },
  {
   "cell_type": "markdown",
   "metadata": {},
   "source": [
    "<a id=\"links\"></a>\n",
    "## `Contains Links / Videos`\n",
    "---"
   ]
  },
  {
   "cell_type": "code",
   "execution_count": 3,
   "metadata": {},
   "outputs": [],
   "source": [
    "df.Date = pd.to_datetime(df.Date)"
   ]
  },
  {
   "cell_type": "code",
   "execution_count": 4,
   "metadata": {},
   "outputs": [],
   "source": [
    "def link_tag(x):\n",
    "    link_identifiers = ['http','bit.ly','.co','po.st']\n",
    "    if any(i in x for i in link_identifiers):\n",
    "        return True\n",
    "    else:\n",
    "        return False"
   ]
  },
  {
   "cell_type": "code",
   "execution_count": 5,
   "metadata": {},
   "outputs": [],
   "source": [
    "#create a column that returns true if the corresponding 'Post_Content' column contained a http link\n",
    "df['Contains_Link'] = df['Post_Content'].apply(link_tag)"
   ]
  },
  {
   "cell_type": "code",
   "execution_count": 6,
   "metadata": {},
   "outputs": [],
   "source": [
    "#create a column that returns true if the corresponding 'Views' column has views\n",
    "df['Contains_Video'] = df['Views'] > 0"
   ]
  },
  {
   "cell_type": "code",
   "execution_count": 7,
   "metadata": {},
   "outputs": [
    {
     "data": {
      "text/html": [
       "<div>\n",
       "<style scoped>\n",
       "    .dataframe tbody tr th:only-of-type {\n",
       "        vertical-align: middle;\n",
       "    }\n",
       "\n",
       "    .dataframe tbody tr th {\n",
       "        vertical-align: top;\n",
       "    }\n",
       "\n",
       "    .dataframe thead th {\n",
       "        text-align: right;\n",
       "    }\n",
       "</style>\n",
       "<table border=\"1\" class=\"dataframe\">\n",
       "  <thead>\n",
       "    <tr style=\"text-align: right;\">\n",
       "      <th></th>\n",
       "      <th>Date</th>\n",
       "      <th>Year</th>\n",
       "      <th>Brand</th>\n",
       "      <th>Post_Content</th>\n",
       "      <th>All_Responses</th>\n",
       "      <th>Comments</th>\n",
       "      <th>Shares</th>\n",
       "      <th>Views</th>\n",
       "      <th>Contains_Link</th>\n",
       "      <th>Contains_Video</th>\n",
       "    </tr>\n",
       "  </thead>\n",
       "  <tbody>\n",
       "    <tr>\n",
       "      <th>0</th>\n",
       "      <td>2018-12-08</td>\n",
       "      <td>2018</td>\n",
       "      <td>Sainsburys</td>\n",
       "      <td>Bake a festive showstopper with Sainsbury’s ma...</td>\n",
       "      <td>132</td>\n",
       "      <td>74</td>\n",
       "      <td>23</td>\n",
       "      <td>0</td>\n",
       "      <td>True</td>\n",
       "      <td>False</td>\n",
       "    </tr>\n",
       "    <tr>\n",
       "      <th>1</th>\n",
       "      <td>2018-12-05</td>\n",
       "      <td>2018</td>\n",
       "      <td>Sainsburys</td>\n",
       "      <td>Get in the party spirit with Sainsbury’s magaz...</td>\n",
       "      <td>142</td>\n",
       "      <td>33</td>\n",
       "      <td>5</td>\n",
       "      <td>18000</td>\n",
       "      <td>True</td>\n",
       "      <td>True</td>\n",
       "    </tr>\n",
       "    <tr>\n",
       "      <th>2</th>\n",
       "      <td>2018-12-01</td>\n",
       "      <td>2018</td>\n",
       "      <td>Sainsburys</td>\n",
       "      <td>Harry and Meghan’s wedding cake maker Claire P...</td>\n",
       "      <td>193</td>\n",
       "      <td>59</td>\n",
       "      <td>26</td>\n",
       "      <td>0</td>\n",
       "      <td>True</td>\n",
       "      <td>False</td>\n",
       "    </tr>\n",
       "    <tr>\n",
       "      <th>3</th>\n",
       "      <td>2018-11-29</td>\n",
       "      <td>2018</td>\n",
       "      <td>Sainsburys</td>\n",
       "      <td>These cookie-cup mince pies are deliciously ch...</td>\n",
       "      <td>187</td>\n",
       "      <td>34</td>\n",
       "      <td>22</td>\n",
       "      <td>0</td>\n",
       "      <td>True</td>\n",
       "      <td>False</td>\n",
       "    </tr>\n",
       "    <tr>\n",
       "      <th>4</th>\n",
       "      <td>2018-11-26</td>\n",
       "      <td>2018</td>\n",
       "      <td>Sainsburys</td>\n",
       "      <td>We need your help to brighten 1 million Christ...</td>\n",
       "      <td>2200</td>\n",
       "      <td>180</td>\n",
       "      <td>710</td>\n",
       "      <td>627000</td>\n",
       "      <td>False</td>\n",
       "      <td>True</td>\n",
       "    </tr>\n",
       "    <tr>\n",
       "      <th>5</th>\n",
       "      <td>2018-11-25</td>\n",
       "      <td>2018</td>\n",
       "      <td>Sainsburys</td>\n",
       "      <td>Did you know you can make your Christmas puddi...</td>\n",
       "      <td>208</td>\n",
       "      <td>80</td>\n",
       "      <td>58</td>\n",
       "      <td>0</td>\n",
       "      <td>True</td>\n",
       "      <td>False</td>\n",
       "    </tr>\n",
       "    <tr>\n",
       "      <th>6</th>\n",
       "      <td>2018-11-22</td>\n",
       "      <td>2018</td>\n",
       "      <td>Sainsburys</td>\n",
       "      <td>Kids AND adults will love making these cute re...</td>\n",
       "      <td>273</td>\n",
       "      <td>97</td>\n",
       "      <td>67</td>\n",
       "      <td>0</td>\n",
       "      <td>True</td>\n",
       "      <td>False</td>\n",
       "    </tr>\n",
       "    <tr>\n",
       "      <th>7</th>\n",
       "      <td>2018-11-19</td>\n",
       "      <td>2018</td>\n",
       "      <td>Sainsburys</td>\n",
       "      <td>Calling all cheese lovers! Christmas really ha...</td>\n",
       "      <td>898</td>\n",
       "      <td>1500</td>\n",
       "      <td>455</td>\n",
       "      <td>461000</td>\n",
       "      <td>False</td>\n",
       "      <td>True</td>\n",
       "    </tr>\n",
       "    <tr>\n",
       "      <th>8</th>\n",
       "      <td>2018-11-15</td>\n",
       "      <td>2018</td>\n",
       "      <td>Sainsburys</td>\n",
       "      <td>*Watches on repeat for the kid dressed as a plug*</td>\n",
       "      <td>26000</td>\n",
       "      <td>12000</td>\n",
       "      <td>17918</td>\n",
       "      <td>2200000</td>\n",
       "      <td>False</td>\n",
       "      <td>True</td>\n",
       "    </tr>\n",
       "    <tr>\n",
       "      <th>9</th>\n",
       "      <td>2018-11-14</td>\n",
       "      <td>2018</td>\n",
       "      <td>Sainsburys</td>\n",
       "      <td>He didn't choose the plug life, the plug life ...</td>\n",
       "      <td>29000</td>\n",
       "      <td>23000</td>\n",
       "      <td>14616</td>\n",
       "      <td>1800000</td>\n",
       "      <td>False</td>\n",
       "      <td>True</td>\n",
       "    </tr>\n",
       "  </tbody>\n",
       "</table>\n",
       "</div>"
      ],
      "text/plain": [
       "        Date  Year       Brand  \\\n",
       "0 2018-12-08  2018  Sainsburys   \n",
       "1 2018-12-05  2018  Sainsburys   \n",
       "2 2018-12-01  2018  Sainsburys   \n",
       "3 2018-11-29  2018  Sainsburys   \n",
       "4 2018-11-26  2018  Sainsburys   \n",
       "5 2018-11-25  2018  Sainsburys   \n",
       "6 2018-11-22  2018  Sainsburys   \n",
       "7 2018-11-19  2018  Sainsburys   \n",
       "8 2018-11-15  2018  Sainsburys   \n",
       "9 2018-11-14  2018  Sainsburys   \n",
       "\n",
       "                                        Post_Content  All_Responses  Comments  \\\n",
       "0  Bake a festive showstopper with Sainsbury’s ma...            132        74   \n",
       "1  Get in the party spirit with Sainsbury’s magaz...            142        33   \n",
       "2  Harry and Meghan’s wedding cake maker Claire P...            193        59   \n",
       "3  These cookie-cup mince pies are deliciously ch...            187        34   \n",
       "4  We need your help to brighten 1 million Christ...           2200       180   \n",
       "5  Did you know you can make your Christmas puddi...            208        80   \n",
       "6  Kids AND adults will love making these cute re...            273        97   \n",
       "7  Calling all cheese lovers! Christmas really ha...            898      1500   \n",
       "8  *Watches on repeat for the kid dressed as a plug*          26000     12000   \n",
       "9  He didn't choose the plug life, the plug life ...          29000     23000   \n",
       "\n",
       "   Shares    Views  Contains_Link  Contains_Video  \n",
       "0      23        0           True           False  \n",
       "1       5    18000           True            True  \n",
       "2      26        0           True           False  \n",
       "3      22        0           True           False  \n",
       "4     710   627000          False            True  \n",
       "5      58        0           True           False  \n",
       "6      67        0           True           False  \n",
       "7     455   461000          False            True  \n",
       "8   17918  2200000          False            True  \n",
       "9   14616  1800000          False            True  "
      ]
     },
     "execution_count": 7,
     "metadata": {},
     "output_type": "execute_result"
    }
   ],
   "source": [
    "df.head(10)"
   ]
  },
  {
   "cell_type": "markdown",
   "metadata": {},
   "source": [
    "<a id=\"hash\"></a>\n",
    "## `Contains Hashtags`\n",
    "---"
   ]
  },
  {
   "cell_type": "code",
   "execution_count": 8,
   "metadata": {},
   "outputs": [],
   "source": [
    "#it might be useful to identify which posts have hashtags in them and how many - so let's create two new columns \n",
    "hashtag = re.compile('[#]')\n",
    "\n",
    "def hashtag_present(x):\n",
    "    if hashtag.findall(x):\n",
    "        return True\n",
    "    else:\n",
    "        return False\n",
    "    \n",
    "def hashtag_count(x):\n",
    "    return len(hashtag.findall(x))"
   ]
  },
  {
   "cell_type": "code",
   "execution_count": 9,
   "metadata": {},
   "outputs": [],
   "source": [
    "df['Has_Hashtag'] = df.Post_Content.apply(hashtag_present)"
   ]
  },
  {
   "cell_type": "code",
   "execution_count": 10,
   "metadata": {},
   "outputs": [],
   "source": [
    "df['Hashtag_Count'] = df.Post_Content.apply(hashtag_count)"
   ]
  },
  {
   "cell_type": "markdown",
   "metadata": {},
   "source": [
    "<a id=\"integrate\"></a>\n",
    "## `Integrating like data from secondary sources`\n",
    "---"
   ]
  },
  {
   "cell_type": "markdown",
   "metadata": {},
   "source": [
    "You can't get retrospective like data for brands on Facebook - so I used a site called Fanpage Karma to acquire this data. It may prove useful in getting some context about the brands."
   ]
  },
  {
   "cell_type": "markdown",
   "metadata": {},
   "source": [
    "<img src= \"Assets/fp_karma.png\">\n",
    "\n"
   ]
  },
  {
   "cell_type": "code",
   "execution_count": 11,
   "metadata": {},
   "outputs": [],
   "source": [
    "asda_likes = pd.read_csv('./FanPage_Karma_Data/ASDA_likes.csv')\n",
    "lidl_likes = pd.read_csv('./FanPage_Karma_Data/Lidl_likes.csv')\n",
    "sains_likes = pd.read_csv('./FanPage_Karma_Data/Sainsburys_likes.csv')\n",
    "mns_likes = pd.read_csv('./FanPage_Karma_Data/mns_likes.csv')\n",
    "morrisons_likes = pd.read_csv('./FanPage_Karma_Data/Morrisons_likes.csv')\n",
    "tesco_likes = pd.read_csv('./FanPage_Karma_Data/Tesco_likes.csv')\n",
    "waitrose_likes = pd.read_csv('./FanPage_Karma_Data/Waitrose_likes.csv')"
   ]
  },
  {
   "cell_type": "code",
   "execution_count": 12,
   "metadata": {},
   "outputs": [],
   "source": [
    "asda_likes.Date = pd.to_datetime(asda_likes['Date'],format='%d/%m/%y')\n",
    "lidl_likes.Date = pd.to_datetime(lidl_likes['Date'],format='%d/%m/%y')\n",
    "sains_likes.Date = pd.to_datetime(sains_likes['Date'],format='%d/%m/%y')\n",
    "mns_likes.Date = pd.to_datetime(mns_likes['Date'],format='%d/%m/%y')\n",
    "morrisons_likes.Date = pd.to_datetime(morrisons_likes['Date'],format='%d/%m/%y')\n",
    "tesco_likes.Date = pd.to_datetime(tesco_likes['Date'],format='%d/%m/%y')\n",
    "waitrose_likes.Date = pd.to_datetime(waitrose_likes['Date'],format='%d/%m/%y')"
   ]
  },
  {
   "cell_type": "code",
   "execution_count": 13,
   "metadata": {},
   "outputs": [],
   "source": [
    "Lidl = df[df.Brand == 'Lidl']\n",
    "Tesco = df[df.Brand == 'Tesco']\n",
    "MnS = df[df.Brand == 'Marks and Spencer']\n",
    "Morrisons = df[df.Brand == 'Morrisons']\n",
    "Waitrose = df[df.Brand == 'Waitrose']\n",
    "Sainsburys = df[df.Brand == 'Sainsburys']\n",
    "Asda = df[df.Brand == 'ASDA']"
   ]
  },
  {
   "cell_type": "code",
   "execution_count": 14,
   "metadata": {},
   "outputs": [],
   "source": [
    "#merging the like data with the individual brand df\n",
    "sains_m = pd.merge(Sainsburys, sains_likes, left_index=False, right_index=False,left_on='Date', right_on='Date', how = 'left')\n",
    "lidl_m = pd.merge(Lidl, lidl_likes, left_index=False, right_index=False,left_on='Date', right_on='Date', how = 'left')\n",
    "tesco_m = pd.merge(Tesco, tesco_likes, left_index=False, right_index=False,left_on='Date', right_on='Date', how = 'left')\n",
    "morrisons_m = pd.merge(Morrisons, morrisons_likes, left_index=False, right_index=False,left_on='Date', right_on='Date', how = 'left')\n",
    "mns_m = pd.merge(MnS, mns_likes, left_index=False, right_index=False,left_on='Date', right_on='Date', how = 'left')\n",
    "waitrose_m = pd.merge(Waitrose, waitrose_likes, left_index=False, right_index=False,left_on='Date', right_on='Date', how = 'left')\n",
    "asda_m = pd.merge(Asda, asda_likes, left_index=False, right_index=False,left_on='Date', right_on='Date', how = 'left')"
   ]
  },
  {
   "cell_type": "code",
   "execution_count": 15,
   "metadata": {},
   "outputs": [],
   "source": [
    "df = pd.concat([sains_m,lidl_m,tesco_m,morrisons_m,mns_m,waitrose_m,asda_m])"
   ]
  },
  {
   "cell_type": "code",
   "execution_count": 16,
   "metadata": {},
   "outputs": [],
   "source": [
    "df.dropna(inplace=True)"
   ]
  },
  {
   "cell_type": "markdown",
   "metadata": {},
   "source": [
    "<a id=\"engage\"></a>\n",
    "## `Creating engagement rate`\n",
    "---"
   ]
  },
  {
   "cell_type": "code",
   "execution_count": 17,
   "metadata": {},
   "outputs": [
    {
     "data": {
      "text/html": [
       "<div>\n",
       "<style scoped>\n",
       "    .dataframe tbody tr th:only-of-type {\n",
       "        vertical-align: middle;\n",
       "    }\n",
       "\n",
       "    .dataframe tbody tr th {\n",
       "        vertical-align: top;\n",
       "    }\n",
       "\n",
       "    .dataframe thead th {\n",
       "        text-align: right;\n",
       "    }\n",
       "</style>\n",
       "<table border=\"1\" class=\"dataframe\">\n",
       "  <thead>\n",
       "    <tr style=\"text-align: right;\">\n",
       "      <th></th>\n",
       "      <th>Date</th>\n",
       "      <th>Year</th>\n",
       "      <th>Brand</th>\n",
       "      <th>Post_Content</th>\n",
       "      <th>All_Responses</th>\n",
       "      <th>Comments</th>\n",
       "      <th>Shares</th>\n",
       "      <th>Views</th>\n",
       "      <th>Contains_Link</th>\n",
       "      <th>Contains_Video</th>\n",
       "      <th>Has_Hashtag</th>\n",
       "      <th>Hashtag_Count</th>\n",
       "      <th>Likes</th>\n",
       "    </tr>\n",
       "  </thead>\n",
       "  <tbody>\n",
       "    <tr>\n",
       "      <th>0</th>\n",
       "      <td>2018-12-08</td>\n",
       "      <td>2018</td>\n",
       "      <td>Sainsburys</td>\n",
       "      <td>Bake a festive showstopper with Sainsbury’s ma...</td>\n",
       "      <td>132</td>\n",
       "      <td>74</td>\n",
       "      <td>23</td>\n",
       "      <td>0</td>\n",
       "      <td>True</td>\n",
       "      <td>False</td>\n",
       "      <td>False</td>\n",
       "      <td>0</td>\n",
       "      <td>1700448.0</td>\n",
       "    </tr>\n",
       "    <tr>\n",
       "      <th>1</th>\n",
       "      <td>2018-12-05</td>\n",
       "      <td>2018</td>\n",
       "      <td>Sainsburys</td>\n",
       "      <td>Get in the party spirit with Sainsbury’s magaz...</td>\n",
       "      <td>142</td>\n",
       "      <td>33</td>\n",
       "      <td>5</td>\n",
       "      <td>18000</td>\n",
       "      <td>True</td>\n",
       "      <td>True</td>\n",
       "      <td>False</td>\n",
       "      <td>0</td>\n",
       "      <td>1700328.0</td>\n",
       "    </tr>\n",
       "    <tr>\n",
       "      <th>2</th>\n",
       "      <td>2018-12-01</td>\n",
       "      <td>2018</td>\n",
       "      <td>Sainsburys</td>\n",
       "      <td>Harry and Meghan’s wedding cake maker Claire P...</td>\n",
       "      <td>193</td>\n",
       "      <td>59</td>\n",
       "      <td>26</td>\n",
       "      <td>0</td>\n",
       "      <td>True</td>\n",
       "      <td>False</td>\n",
       "      <td>False</td>\n",
       "      <td>0</td>\n",
       "      <td>1700220.0</td>\n",
       "    </tr>\n",
       "    <tr>\n",
       "      <th>3</th>\n",
       "      <td>2018-11-29</td>\n",
       "      <td>2018</td>\n",
       "      <td>Sainsburys</td>\n",
       "      <td>These cookie-cup mince pies are deliciously ch...</td>\n",
       "      <td>187</td>\n",
       "      <td>34</td>\n",
       "      <td>22</td>\n",
       "      <td>0</td>\n",
       "      <td>True</td>\n",
       "      <td>False</td>\n",
       "      <td>False</td>\n",
       "      <td>0</td>\n",
       "      <td>1700046.0</td>\n",
       "    </tr>\n",
       "    <tr>\n",
       "      <th>4</th>\n",
       "      <td>2018-11-26</td>\n",
       "      <td>2018</td>\n",
       "      <td>Sainsburys</td>\n",
       "      <td>We need your help to brighten 1 million Christ...</td>\n",
       "      <td>2200</td>\n",
       "      <td>180</td>\n",
       "      <td>710</td>\n",
       "      <td>627000</td>\n",
       "      <td>False</td>\n",
       "      <td>True</td>\n",
       "      <td>False</td>\n",
       "      <td>0</td>\n",
       "      <td>1699846.0</td>\n",
       "    </tr>\n",
       "  </tbody>\n",
       "</table>\n",
       "</div>"
      ],
      "text/plain": [
       "        Date  Year       Brand  \\\n",
       "0 2018-12-08  2018  Sainsburys   \n",
       "1 2018-12-05  2018  Sainsburys   \n",
       "2 2018-12-01  2018  Sainsburys   \n",
       "3 2018-11-29  2018  Sainsburys   \n",
       "4 2018-11-26  2018  Sainsburys   \n",
       "\n",
       "                                        Post_Content  All_Responses  Comments  \\\n",
       "0  Bake a festive showstopper with Sainsbury’s ma...            132        74   \n",
       "1  Get in the party spirit with Sainsbury’s magaz...            142        33   \n",
       "2  Harry and Meghan’s wedding cake maker Claire P...            193        59   \n",
       "3  These cookie-cup mince pies are deliciously ch...            187        34   \n",
       "4  We need your help to brighten 1 million Christ...           2200       180   \n",
       "\n",
       "   Shares   Views  Contains_Link  Contains_Video  Has_Hashtag  Hashtag_Count  \\\n",
       "0      23       0           True           False        False              0   \n",
       "1       5   18000           True            True        False              0   \n",
       "2      26       0           True           False        False              0   \n",
       "3      22       0           True           False        False              0   \n",
       "4     710  627000          False            True        False              0   \n",
       "\n",
       "       Likes  \n",
       "0  1700448.0  \n",
       "1  1700328.0  \n",
       "2  1700220.0  \n",
       "3  1700046.0  \n",
       "4  1699846.0  "
      ]
     },
     "execution_count": 17,
     "metadata": {},
     "output_type": "execute_result"
    }
   ],
   "source": [
    "df.head()"
   ]
  },
  {
   "cell_type": "code",
   "execution_count": 18,
   "metadata": {},
   "outputs": [],
   "source": [
    "df['Response_Rate'] = df['All_Responses'] / df ['Likes']\n",
    "df['Comments_Rate'] = df['Comments'] / df ['Likes']\n",
    "df['Shares_Rate'] = df['Shares'] / df ['Likes']\n",
    "df['Video_Rate'] = df['Views'] / df ['Likes']"
   ]
  },
  {
   "cell_type": "code",
   "execution_count": 19,
   "metadata": {},
   "outputs": [],
   "source": [
    "df.to_csv('./Clean_Data_Eng/Final_merged_Eng.csv',index=False)"
   ]
  },
  {
   "cell_type": "code",
   "execution_count": 20,
   "metadata": {},
   "outputs": [
    {
     "data": {
      "text/plain": [
       "Lidl                 1353\n",
       "Tesco                1068\n",
       "Marks and Spencer     870\n",
       "Morrisons             798\n",
       "Waitrose              777\n",
       "ASDA                  770\n",
       "Sainsburys            714\n",
       "Name: Brand, dtype: int64"
      ]
     },
     "execution_count": 20,
     "metadata": {},
     "output_type": "execute_result"
    }
   ],
   "source": [
    "df.Brand.value_counts()"
   ]
  },
  {
   "cell_type": "markdown",
   "metadata": {},
   "source": [
    "<a id=\"next\"></a>\n",
    "# `Next Steps:`\n",
    "---\n",
    "\n",
    "In the next section I'm going to begin the EDA stage of the project. My main aim in this section is to dig into all these metrics I have engineered and see if there is any indication that our brands' content is any different. Time to start visualising!"
   ]
  },
  {
   "cell_type": "code",
   "execution_count": null,
   "metadata": {},
   "outputs": [],
   "source": []
  }
 ],
 "metadata": {
  "kernelspec": {
   "display_name": "Python 3",
   "language": "python",
   "name": "python3"
  },
  "language_info": {
   "codemirror_mode": {
    "name": "ipython",
    "version": 3
   },
   "file_extension": ".py",
   "mimetype": "text/x-python",
   "name": "python",
   "nbconvert_exporter": "python",
   "pygments_lexer": "ipython3",
   "version": "3.6.6"
  },
  "toc": {
   "nav_menu": {},
   "number_sections": false,
   "sideBar": true,
   "skip_h1_title": true,
   "title_cell": "Table of Contents",
   "title_sidebar": "Contents",
   "toc_cell": true,
   "toc_position": {},
   "toc_section_display": true,
   "toc_window_display": false
  }
 },
 "nbformat": 4,
 "nbformat_minor": 2
}
