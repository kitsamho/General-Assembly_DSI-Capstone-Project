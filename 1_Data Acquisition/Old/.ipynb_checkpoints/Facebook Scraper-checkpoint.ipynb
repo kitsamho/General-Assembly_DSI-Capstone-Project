{
 "cells": [
  {
   "cell_type": "markdown",
   "metadata": {},
   "source": [
    "# Data Acquisition"
   ]
  },
  {
   "cell_type": "code",
   "execution_count": 8,
   "metadata": {},
   "outputs": [],
   "source": [
    "import numpy as np\n",
    "import pandas as pd\n",
    "from time import time"
   ]
  },
  {
   "cell_type": "code",
   "execution_count": 95,
   "metadata": {},
   "outputs": [
    {
     "name": "stdout",
     "output_type": "stream",
     "text": [
      "Email Id entered...\n",
      "Password entered...\n"
     ]
    }
   ],
   "source": [
    "#cookies\n",
    "\n",
    "import pickle\n",
    "\n",
    "#save cookies\n",
    "driver = webdriver.Chrome('./chromedriver')\n",
    "driver.get(\"https://www.facebook.com/sainsburys\")\n",
    "pickle.dump( driver.get_cookies() , open(\"cookies.pkl\",\"wb\"))\n",
    "\n",
    "\n",
    "#get cookies\n",
    "driver = webdriver.Chrome('./chromedriver')\n",
    "driver.get(\"https://www.facebook.com/sainsburys\")\n",
    "cookies = pickle.load(open(\"cookies.pkl\", \"rb\"))\n",
    "for cookie in cookies:\n",
    "    driver.add_cookie(cookie)\n",
    "                                    "
   ]
  },
  {
   "cell_type": "markdown",
   "metadata": {},
   "source": [
    "## Facebook Log In - Normal Browser"
   ]
  },
  {
   "cell_type": "code",
   "execution_count": 8,
   "metadata": {},
   "outputs": [
    {
     "name": "stdout",
     "output_type": "stream",
     "text": [
      "Opened facebook...\n",
      "Email Id entered...\n",
      "Password entered...\n"
     ]
    }
   ],
   "source": [
    "#normal\n",
    "\n",
    "from selenium import webdriver\n",
    "from selenium.webdriver.chrome.options import Options\n",
    "from selenium.webdriver.common.keys import Keys\n",
    "\n",
    "driver = webdriver.Chrome('./chromedriver')\n",
    "\n",
    "#log in to Facebook\n",
    "driver.get('http://www.facebook.com/sainsburys')\n",
    "print(\"Opened facebook...\")\n",
    "a = driver.find_element_by_id('email')\n",
    "a.send_keys('kitsamho@gmail.com')\n",
    "print(\"Email Id entered...\")\n",
    "b = driver.find_element_by_xpath('//*[@id=\"pass\"]')\n",
    "b.send_keys('Da3FNUqN')\n",
    "print(\"Password entered...\")\n",
    "c = driver.find_element_by_xpath('//*[@id=\"loginbutton\"]')\n",
    "c.click() \n",
    "\n",
    "d = driver.find_element_by_xpath('//*[@id=\"pass\"]')\n",
    "d.send_keys('Da3FNUqN')\n",
    "\n",
    "e = driver.find_element_by_xpath('//*[@id=\"loginbutton\"]')\n",
    "e.click() \n",
    "\n"
   ]
  },
  {
   "cell_type": "markdown",
   "metadata": {},
   "source": [
    "## Facebook Log In - Mobile Browser"
   ]
  },
  {
   "cell_type": "code",
   "execution_count": 19,
   "metadata": {},
   "outputs": [],
   "source": [
    "from selenium import webdriver\n",
    "from selenium.webdriver.chrome.options import Options\n",
    "from selenium.webdriver.common.keys import Keys\n",
    "\n",
    "driver = webdriver.Chrome('./chromedriver')\n",
    "\n",
    "#log in to Facebook - first\n",
    "driver.get('https://mobile.facebook.com/')\n",
    "a = driver.find_element_by_id('m_login_email')\n",
    "a.send_keys('kitsamho@gmail.com')\n",
    "b = driver.find_element_by_id('m_login_password')\n",
    "b.send_keys('Da3FNUqN')\n",
    "\n",
    "\n",
    "\n",
    "\n",
    "#log in to Facebook - second\n",
    "c = driver.find_element_by_id('u_0_5')\n",
    "c.click()\n",
    "d = driver.find_element_by_class_name('_4g34')\n",
    "d.click()\n",
    "driver.get('https://mobile.facebook.com/Sainsburys')\n",
    "e = driver.find_element_by_xpath('//*[@id=\"mobile_login_bar\"]/div[2]/a[1]')\n",
    "e.click() \n",
    "f = driver.find_element_by_xpath('//*[@id=\"m_login_password\"]')\n",
    "f.send_keys('Da3FNUqN') \n",
    "g = driver.find_element_by_xpath('//*[@id=\"u_0_5\"]')\n",
    "g.click()\n",
    "\n",
    "driver.execute_script(\"window.scrollTo(0, document.body.scrollHeight);\")\n",
    "\n",
    "item = driver.find_elements_by_xpath('_3drp')\n",
    "post_text = []\n",
    "post_comments = []\n",
    "post_likes = []\n",
    "post_shares = []\n",
    "#post_type = [] #photo, video, share\n",
    "post_date = []\n",
    "for each in item:\n",
    "    try:\n",
    "        post_text.append(each.find_element_by_tag_name('p').text)\n",
    "        #post_type.append(item.find_element_by_class_name('comments-token').text)\n",
    "        post_date.append(each.find_element_by_tag_name('abbr').text)\n",
    "        post_comments.append(each.find_element_by_class_name('cmt_def').text)\n",
    "        post_likes.append(each.find_element_by_class_name('like_def').text)\n",
    "        post_shares.append(each.find_element_by_xpath('//*[@id=\"u_9_23\"]/div[2]/span[2]').text)\n",
    "    \n",
    "    except:\n",
    "        post_text.append(np.nan)\n",
    "        #post_type.append(item.find_element_by_class_name('comments-token').text)\n",
    "        post_date.append(np.nan)\n",
    "        post_comments.append(np.nan)\n",
    "        post_likes.append(np.nan)\n",
    "        post_shares.append(np.nan)\n"
   ]
  },
  {
   "cell_type": "code",
   "execution_count": 5,
   "metadata": {},
   "outputs": [
    {
     "ename": "NameError",
     "evalue": "name 'pd' is not defined",
     "output_type": "error",
     "traceback": [
      "\u001b[0;31m---------------------------------------------------------------------------\u001b[0m",
      "\u001b[0;31mNameError\u001b[0m                                 Traceback (most recent call last)",
      "\u001b[0;32m<ipython-input-5-9e63d9ef3499>\u001b[0m in \u001b[0;36m<module>\u001b[0;34m\u001b[0m\n\u001b[0;32m----> 1\u001b[0;31m items = pd.DataFrame({'Post Content': post_text,\n\u001b[0m\u001b[1;32m      2\u001b[0m                       \u001b[0;31m#'Type': post_type,\u001b[0m\u001b[0;34m\u001b[0m\u001b[0;34m\u001b[0m\u001b[0m\n\u001b[1;32m      3\u001b[0m                       \u001b[0;34m'Date'\u001b[0m\u001b[0;34m:\u001b[0m \u001b[0mpost_date\u001b[0m\u001b[0;34m,\u001b[0m\u001b[0;34m\u001b[0m\u001b[0m\n\u001b[1;32m      4\u001b[0m                       \u001b[0;34m'Comments'\u001b[0m\u001b[0;34m:\u001b[0m \u001b[0mpost_comments\u001b[0m\u001b[0;34m,\u001b[0m\u001b[0;34m\u001b[0m\u001b[0m\n\u001b[1;32m      5\u001b[0m                       \u001b[0;34m'Likes'\u001b[0m\u001b[0;34m:\u001b[0m \u001b[0mpost_likes\u001b[0m\u001b[0;34m,\u001b[0m\u001b[0;34m\u001b[0m\u001b[0m\n",
      "\u001b[0;31mNameError\u001b[0m: name 'pd' is not defined"
     ]
    }
   ],
   "source": [
    "items = pd.DataFrame({'Post Content': post_text,\n",
    "                      #'Type': post_type,\n",
    "                      'Date': post_date,\n",
    "                      'Comments': post_comments,\n",
    "                      'Likes': post_likes, \n",
    "                    'Shares': post_shares  })"
   ]
  },
  {
   "cell_type": "code",
   "execution_count": 116,
   "metadata": {},
   "outputs": [],
   "source": [
    "driver = webdriver.Chrome('./chromedriver')\n",
    "driver.get('https://mobile.facebook.com/Sainsburys')\n",
    "\n",
    "item = driver.find_elements_by_class_name('_3drp')\n",
    "post_text = []\n",
    "post_comments = []\n",
    "post_likes = []\n",
    "post_shares = []\n",
    "#post_type = [] #photo, video, share\n",
    "post_date = []\n",
    "for each in item:\n",
    "    try:\n",
    "        post_text.append(each.find_element_by_tag_name('p').text)\n",
    "        #post_type.append(item.find_element_by_class_name('comments-token').text)\n",
    "        post_date.append(each.find_element_by_tag_name('abbr').text)\n",
    "        post_comments.append(each.find_element_by_class_name('cmt_def').text)\n",
    "        post_likes.append(each.find_element_by_class_name('like_def').text)\n",
    "        post_shares.append(each.find_element_by_class_name('_28wy').text)\n",
    "    \n",
    "    except:\n",
    "        post_text.append(np.nan)\n",
    "        #post_type.append(item.find_element_by_class_name('comments-token').text)\n",
    "        post_date.append(np.nan)\n",
    "        post_comments.append(np.nan)\n",
    "        post_likes.append(np.nan)\n",
    "        post_shares.append(np.nan)"
   ]
  },
  {
   "cell_type": "code",
   "execution_count": 115,
   "metadata": {},
   "outputs": [],
   "source": [
    "items = pd.DataFrame({'Post Content': post_text,\n",
    "                      #'Type': post_type,\n",
    "                      'Date': post_date,\n",
    "                      'Comments': post_comments,\n",
    "                      'Likes': post_likes, \n",
    "                    'Shares': post_shares  })"
   ]
  },
  {
   "cell_type": "markdown",
   "metadata": {},
   "source": [
    "## Second example: Click for more!"
   ]
  },
  {
   "cell_type": "code",
   "execution_count": 3,
   "metadata": {},
   "outputs": [
    {
     "ename": "NoSuchWindowException",
     "evalue": "Message: no such window: window was already closed\n  (Session info: chrome=70.0.3538.110)\n  (Driver info: chromedriver=2.43.600229 (3fae4d0cda5334b4f533bede5a4787f7b832d052),platform=Mac OS X 10.14.0 x86_64)\n",
     "output_type": "error",
     "traceback": [
      "\u001b[0;31m---------------------------------------------------------------------------\u001b[0m",
      "\u001b[0;31mNoSuchWindowException\u001b[0m                     Traceback (most recent call last)",
      "\u001b[0;32m<ipython-input-3-4e9870d65e0c>\u001b[0m in \u001b[0;36m<module>\u001b[0;34m()\u001b[0m\n\u001b[1;32m      8\u001b[0m \u001b[0;34m\u001b[0m\u001b[0m\n\u001b[1;32m      9\u001b[0m \u001b[0;32mfor\u001b[0m \u001b[0mx\u001b[0m \u001b[0;32min\u001b[0m \u001b[0mrange\u001b[0m\u001b[0;34m(\u001b[0m\u001b[0;36m10\u001b[0m\u001b[0;34m)\u001b[0m\u001b[0;34m:\u001b[0m\u001b[0;34m\u001b[0m\u001b[0m\n\u001b[0;32m---> 10\u001b[0;31m     \u001b[0mdriver\u001b[0m\u001b[0;34m.\u001b[0m\u001b[0mexecute_script\u001b[0m\u001b[0;34m(\u001b[0m\u001b[0;34m\"window.scrollTo(0, document.body.scrollHeight);\"\u001b[0m\u001b[0;34m)\u001b[0m\u001b[0;34m\u001b[0m\u001b[0m\n\u001b[0m\u001b[1;32m     11\u001b[0m     \u001b[0mbutton\u001b[0m \u001b[0;34m=\u001b[0m \u001b[0mdriver\u001b[0m\u001b[0;34m.\u001b[0m\u001b[0mfind_element_by_class_name\u001b[0m\u001b[0;34m(\u001b[0m\u001b[0;34m'read-more'\u001b[0m\u001b[0;34m)\u001b[0m\u001b[0;34m\u001b[0m\u001b[0m\n\u001b[1;32m     12\u001b[0m     \u001b[0mbutton\u001b[0m\u001b[0;34m.\u001b[0m\u001b[0mclick\u001b[0m\u001b[0;34m(\u001b[0m\u001b[0;34m)\u001b[0m\u001b[0;34m\u001b[0m\u001b[0m\n",
      "\u001b[0;32m~/anaconda3/lib/python3.6/site-packages/selenium/webdriver/remote/webdriver.py\u001b[0m in \u001b[0;36mexecute_script\u001b[0;34m(self, script, *args)\u001b[0m\n\u001b[1;32m    634\u001b[0m         return self.execute(command, {\n\u001b[1;32m    635\u001b[0m             \u001b[0;34m'script'\u001b[0m\u001b[0;34m:\u001b[0m \u001b[0mscript\u001b[0m\u001b[0;34m,\u001b[0m\u001b[0;34m\u001b[0m\u001b[0m\n\u001b[0;32m--> 636\u001b[0;31m             'args': converted_args})['value']\n\u001b[0m\u001b[1;32m    637\u001b[0m \u001b[0;34m\u001b[0m\u001b[0m\n\u001b[1;32m    638\u001b[0m     \u001b[0;32mdef\u001b[0m \u001b[0mexecute_async_script\u001b[0m\u001b[0;34m(\u001b[0m\u001b[0mself\u001b[0m\u001b[0;34m,\u001b[0m \u001b[0mscript\u001b[0m\u001b[0;34m,\u001b[0m \u001b[0;34m*\u001b[0m\u001b[0margs\u001b[0m\u001b[0;34m)\u001b[0m\u001b[0;34m:\u001b[0m\u001b[0;34m\u001b[0m\u001b[0m\n",
      "\u001b[0;32m~/anaconda3/lib/python3.6/site-packages/selenium/webdriver/remote/webdriver.py\u001b[0m in \u001b[0;36mexecute\u001b[0;34m(self, driver_command, params)\u001b[0m\n\u001b[1;32m    319\u001b[0m         \u001b[0mresponse\u001b[0m \u001b[0;34m=\u001b[0m \u001b[0mself\u001b[0m\u001b[0;34m.\u001b[0m\u001b[0mcommand_executor\u001b[0m\u001b[0;34m.\u001b[0m\u001b[0mexecute\u001b[0m\u001b[0;34m(\u001b[0m\u001b[0mdriver_command\u001b[0m\u001b[0;34m,\u001b[0m \u001b[0mparams\u001b[0m\u001b[0;34m)\u001b[0m\u001b[0;34m\u001b[0m\u001b[0m\n\u001b[1;32m    320\u001b[0m         \u001b[0;32mif\u001b[0m \u001b[0mresponse\u001b[0m\u001b[0;34m:\u001b[0m\u001b[0;34m\u001b[0m\u001b[0m\n\u001b[0;32m--> 321\u001b[0;31m             \u001b[0mself\u001b[0m\u001b[0;34m.\u001b[0m\u001b[0merror_handler\u001b[0m\u001b[0;34m.\u001b[0m\u001b[0mcheck_response\u001b[0m\u001b[0;34m(\u001b[0m\u001b[0mresponse\u001b[0m\u001b[0;34m)\u001b[0m\u001b[0;34m\u001b[0m\u001b[0m\n\u001b[0m\u001b[1;32m    322\u001b[0m             response['value'] = self._unwrap_value(\n\u001b[1;32m    323\u001b[0m                 response.get('value', None))\n",
      "\u001b[0;32m~/anaconda3/lib/python3.6/site-packages/selenium/webdriver/remote/errorhandler.py\u001b[0m in \u001b[0;36mcheck_response\u001b[0;34m(self, response)\u001b[0m\n\u001b[1;32m    240\u001b[0m                 \u001b[0malert_text\u001b[0m \u001b[0;34m=\u001b[0m \u001b[0mvalue\u001b[0m\u001b[0;34m[\u001b[0m\u001b[0;34m'alert'\u001b[0m\u001b[0;34m]\u001b[0m\u001b[0;34m.\u001b[0m\u001b[0mget\u001b[0m\u001b[0;34m(\u001b[0m\u001b[0;34m'text'\u001b[0m\u001b[0;34m)\u001b[0m\u001b[0;34m\u001b[0m\u001b[0m\n\u001b[1;32m    241\u001b[0m             \u001b[0;32mraise\u001b[0m \u001b[0mexception_class\u001b[0m\u001b[0;34m(\u001b[0m\u001b[0mmessage\u001b[0m\u001b[0;34m,\u001b[0m \u001b[0mscreen\u001b[0m\u001b[0;34m,\u001b[0m \u001b[0mstacktrace\u001b[0m\u001b[0;34m,\u001b[0m \u001b[0malert_text\u001b[0m\u001b[0;34m)\u001b[0m\u001b[0;34m\u001b[0m\u001b[0m\n\u001b[0;32m--> 242\u001b[0;31m         \u001b[0;32mraise\u001b[0m \u001b[0mexception_class\u001b[0m\u001b[0;34m(\u001b[0m\u001b[0mmessage\u001b[0m\u001b[0;34m,\u001b[0m \u001b[0mscreen\u001b[0m\u001b[0;34m,\u001b[0m \u001b[0mstacktrace\u001b[0m\u001b[0;34m)\u001b[0m\u001b[0;34m\u001b[0m\u001b[0m\n\u001b[0m\u001b[1;32m    243\u001b[0m \u001b[0;34m\u001b[0m\u001b[0m\n\u001b[1;32m    244\u001b[0m     \u001b[0;32mdef\u001b[0m \u001b[0m_value_or_default\u001b[0m\u001b[0;34m(\u001b[0m\u001b[0mself\u001b[0m\u001b[0;34m,\u001b[0m \u001b[0mobj\u001b[0m\u001b[0;34m,\u001b[0m \u001b[0mkey\u001b[0m\u001b[0;34m,\u001b[0m \u001b[0mdefault\u001b[0m\u001b[0;34m)\u001b[0m\u001b[0;34m:\u001b[0m\u001b[0;34m\u001b[0m\u001b[0m\n",
      "\u001b[0;31mNoSuchWindowException\u001b[0m: Message: no such window: window was already closed\n  (Session info: chrome=70.0.3538.110)\n  (Driver info: chromedriver=2.43.600229 (3fae4d0cda5334b4f533bede5a4787f7b832d052),platform=Mac OS X 10.14.0 x86_64)\n"
     ]
    }
   ],
   "source": [
    "driver = webdriver.Chrome('./chromedriver')\n",
    "driver.get('https://www.edie.net/news/')\n",
    "close = driver.find_element_by_id('fvpp-close')\n",
    "close.click()\n",
    "\n",
    "start = time()\n",
    "while time()-start<2: continue\n",
    "\n",
    "for x in range(10):\n",
    "    driver.execute_script(\"window.scrollTo(0, document.body.scrollHeight);\")\n",
    "    button = driver.find_element_by_class_name('read-more')\n",
    "    button.click()\n",
    "    start = time()\n",
    "    while time()-start<3: continue\n",
    "\n",
    "article_tags = driver.find_elements_by_class_name('story')\n",
    "article_titles = []\n",
    "article_urls = []\n",
    "\n",
    "for article in article_tags:\n",
    "    try:\n",
    "        article_titles.append(article.find_element_by_tag_name('h2').text)\n",
    "    except:\n",
    "        article_titles.append(np.nan)\n",
    "    try:\n",
    "        article_urls.append(article.find_element_by_tag_name('a').get_attribute('href'))\n",
    "    except:\n",
    "        article_urls.append(np.nan)\n",
    "\n",
    "articles = pd.DataFrame({'Title': article_titles,\n",
    "                        'URL': article_urls})"
   ]
  },
  {
   "cell_type": "code",
   "execution_count": null,
   "metadata": {},
   "outputs": [],
   "source": []
  }
 ],
 "metadata": {
  "kernelspec": {
   "display_name": "Python 3",
   "language": "python",
   "name": "python3"
  },
  "language_info": {
   "codemirror_mode": {
    "name": "ipython",
    "version": 3
   },
   "file_extension": ".py",
   "mimetype": "text/x-python",
   "name": "python",
   "nbconvert_exporter": "python",
   "pygments_lexer": "ipython3",
   "version": "3.6.6"
  },
  "toc": {
   "nav_menu": {},
   "number_sections": false,
   "sideBar": true,
   "skip_h1_title": true,
   "title_cell": "Table of Contents",
   "title_sidebar": "Contents",
   "toc_cell": true,
   "toc_position": {},
   "toc_section_display": true,
   "toc_window_display": false
  }
 },
 "nbformat": 4,
 "nbformat_minor": 2
}
